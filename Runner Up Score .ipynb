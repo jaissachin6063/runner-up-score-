{
 "cells": [
  {
   "cell_type": "code",
   "execution_count": 11,
   "id": "ad918fc7-5898-48a8-bff9-7434bc545ad0",
   "metadata": {},
   "outputs": [
    {
     "name": "stdin",
     "output_type": "stream",
     "text": [
      "Enter the scores separated by spaces:  5 2 2 3 6 6 5\n"
     ]
    },
    {
     "name": "stdout",
     "output_type": "stream",
     "text": [
      "The runner-up score is: 5\n"
     ]
    }
   ],
   "source": [
    "def find_runner_up_score(scores):\n",
    "    # Remove duplicates by converting the list to a set\n",
    "    unique_scores = set(scores)\n",
    "    \n",
    "    # Check if there are at least two unique scores\n",
    "    if len(unique_scores) < 2:\n",
    "        return None  # Not enough unique scores to determine a runner-up\n",
    "    \n",
    "    # Convert the set back to a list and sort it in descending order\n",
    "    sorted_scores = sorted(unique_scores, reverse=True)\n",
    "    \n",
    "    # The runner-up score is the second item in the sorted list\n",
    "    runner_up_score = sorted_scores[1]\n",
    "    return runner_up_score\n",
    "\n",
    "# Example usage\n",
    "if __name__ == \"__main__\":\n",
    "    # Input scores from the user\n",
    "    scores_input = input(\"Enter the scores separated by spaces: \")\n",
    "    \n",
    "    # Convert the input string to a list of integers\n",
    "    scores = list(map(int, scores_input.split()))\n",
    "    \n",
    "    # Find the runner-up score\n",
    "    runner_up = find_runner_up_score(scores)\n",
    "    \n",
    "    if runner_up is not None:\n",
    "        print(f\"The runner-up score is: {runner_up}\")\n",
    "    else:\n",
    "        print(\"Not enough unique scores to determine a runner-up.\")"
   ]
  },
  {
   "cell_type": "code",
   "execution_count": null,
   "id": "7801453e-576b-442a-a385-edf9de73ce11",
   "metadata": {},
   "outputs": [],
   "source": []
  }
 ],
 "metadata": {
  "kernelspec": {
   "display_name": "Python 3 (ipykernel)",
   "language": "python",
   "name": "python3"
  },
  "language_info": {
   "codemirror_mode": {
    "name": "ipython",
    "version": 3
   },
   "file_extension": ".py",
   "mimetype": "text/x-python",
   "name": "python",
   "nbconvert_exporter": "python",
   "pygments_lexer": "ipython3",
   "version": "3.12.4"
  }
 },
 "nbformat": 4,
 "nbformat_minor": 5
}
